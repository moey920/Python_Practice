{
  "nbformat": 4,
  "nbformat_minor": 0,
  "metadata": {
    "colab": {
      "name": "클래스, 생성자, self, 네임스페이스, 전역변수, 상속.ipynb",
      "provenance": [],
      "private_outputs": true,
      "collapsed_sections": [],
      "authorship_tag": "ABX9TyM8eNSdRezZvVjaKJVXBJ7L",
      "include_colab_link": true
    },
    "kernelspec": {
      "name": "python3",
      "display_name": "Python 3"
    }
  },
  "cells": [
    {
      "cell_type": "markdown",
      "metadata": {
        "id": "view-in-github",
        "colab_type": "text"
      },
      "source": [
        "<a href=\"https://colab.research.google.com/github/moey920/Python_Practice/blob/master/%ED%81%B4%EB%9E%98%EC%8A%A4_%EC%83%9D%EC%84%B1%EC%9E%90_self_%EB%84%A4%EC%9E%84%EC%8A%A4%ED%8E%98%EC%9D%B4%EC%8A%A4_%EC%A0%84%EC%97%AD%EB%B3%80%EC%88%98_%EC%83%81%EC%86%8D.ipynb\" target=\"_parent\"><img src=\"https://colab.research.google.com/assets/colab-badge.svg\" alt=\"Open In Colab\"/></a>"
      ]
    },
    {
      "cell_type": "markdown",
      "metadata": {
        "id": "tP2o-SC50Wly",
        "colab_type": "text"
      },
      "source": [
        "# 문제 1\n",
        "\n",
        "다음의 조건을 만족하는 Point라는 클래스를 작성하세요.\n",
        "\n",
        "Point 클래스는 생성자를 통해 (x, y) 좌표를 입력받는다.\n",
        "setx(x), sety(y) 메서드를 통해 x 좌표와 y 좌표를 따로 입력받을 수도 있다.\n",
        "get() 메서드를 호출하면 튜플로 구성된 (x, y) 좌표를 반환한다.\n",
        "move(dx, dy) 메서드는 현재 좌표를 dx, dy만큼 이동시킨다.\n",
        "모든 메서드는 인스턴스 메서드다."
      ]
    },
    {
      "cell_type": "code",
      "metadata": {
        "id": "QC4KUeX10G_y",
        "colab_type": "code",
        "colab": {}
      },
      "source": [
        "class Point :\n",
        "    def __init__(self, x, y) :\n",
        "        self.x = x\n",
        "        self.y = y\n",
        "\n",
        "    def setx(self, x) :\n",
        "        self.x = x\n",
        "\n",
        "    def sety(self, y) :\n",
        "        self.y = y\n",
        "\n",
        "    def get(self) :\n",
        "        return (self.x, self.y)\n",
        "\n",
        "    def move(self, dx, dy) :\n",
        "        self.x += dx\n",
        "        self.y += dy"
      ],
      "execution_count": 0,
      "outputs": []
    },
    {
      "cell_type": "markdown",
      "metadata": {
        "id": "vAyfB05b5yrI",
        "colab_type": "text"
      },
      "source": [
        "# 문제 2\n",
        "\n",
        "문제 1에서 생성한 Point 클래스에 대한 인스턴스를 생성한 후 4개의 메서드를 사용하는 코드를 작성하세요."
      ]
    },
    {
      "cell_type": "code",
      "metadata": {
        "id": "thl89EKQ1PAd",
        "colab_type": "code",
        "colab": {}
      },
      "source": [
        "a_point = Point(100, 50)"
      ],
      "execution_count": 0,
      "outputs": []
    },
    {
      "cell_type": "code",
      "metadata": {
        "id": "kgyGqTP41Z7l",
        "colab_type": "code",
        "colab": {}
      },
      "source": [
        "a_point.x, a_point.y # Point.get() 메서드와 동일"
      ],
      "execution_count": 0,
      "outputs": []
    },
    {
      "cell_type": "code",
      "metadata": {
        "id": "l84DfKie28nF",
        "colab_type": "code",
        "colab": {}
      },
      "source": [
        "a_point.setx(10)"
      ],
      "execution_count": 0,
      "outputs": []
    },
    {
      "cell_type": "code",
      "metadata": {
        "id": "YSkgc4j647VM",
        "colab_type": "code",
        "colab": {}
      },
      "source": [
        "a_point.x"
      ],
      "execution_count": 0,
      "outputs": []
    },
    {
      "cell_type": "code",
      "metadata": {
        "id": "dVwHzn7U5DCr",
        "colab_type": "code",
        "colab": {}
      },
      "source": [
        "a_point.get()"
      ],
      "execution_count": 0,
      "outputs": []
    },
    {
      "cell_type": "code",
      "metadata": {
        "id": "hiVzh5f95Jjf",
        "colab_type": "code",
        "colab": {}
      },
      "source": [
        "a_point.move(2000, 2000)"
      ],
      "execution_count": 0,
      "outputs": []
    },
    {
      "cell_type": "code",
      "metadata": {
        "id": "-Ypf2Uuh5fBn",
        "colab_type": "code",
        "colab": {}
      },
      "source": [
        "a_point.get()"
      ],
      "execution_count": 0,
      "outputs": []
    },
    {
      "cell_type": "markdown",
      "metadata": {
        "id": "fAOz_6xP53af",
        "colab_type": "text"
      },
      "source": [
        "# 문제 3\n",
        "\n",
        "아래의 Stock 클래스에 대해 2개의 인스턴스를 생성했을 때 클래스와 a와 b 인스턴스의 네임스페이스를 그려보세요."
      ]
    },
    {
      "cell_type": "code",
      "metadata": {
        "id": "eENsFnIL5uLR",
        "colab_type": "code",
        "colab": {}
      },
      "source": [
        "class Stock : \n",
        "    market = \"kospi\""
      ],
      "execution_count": 0,
      "outputs": []
    },
    {
      "cell_type": "code",
      "metadata": {
        "id": "WAHnj_ny5-rH",
        "colab_type": "code",
        "colab": {}
      },
      "source": [
        "a = Stock()\n",
        "b = Stock()"
      ],
      "execution_count": 0,
      "outputs": []
    },
    {
      "cell_type": "code",
      "metadata": {
        "id": "mNZd8Q-f6CQ_",
        "colab_type": "code",
        "colab": {}
      },
      "source": [
        "# Stock 클래스의 네임스페이스 안에는 {market:kospi}가 들어있고, a와 b는 상이한 네임스페이스를 가지며 빈 공간이다. 다만 a.market = 'kospi'인데 그 이유는 인스턴스에 호출한 변수나 메서드가 없을 때는 클래스에 존재하는지 탐색하기 때문이다."
      ],
      "execution_count": 0,
      "outputs": []
    },
    {
      "cell_type": "code",
      "metadata": {
        "id": "ntw2sann6Jay",
        "colab_type": "code",
        "colab": {}
      },
      "source": [
        "a.market"
      ],
      "execution_count": 0,
      "outputs": []
    },
    {
      "cell_type": "markdown",
      "metadata": {
        "id": "Al24qPD462pp",
        "colab_type": "text"
      },
      "source": [
        "# 문제 4\n",
        "\n",
        "문제 3의 코드에서 추가로 아래와 같은 코드를 수행했을 때 '???'로 표시된 부분의 결괏값을 적어보세요."
      ]
    },
    {
      "cell_type": "code",
      "metadata": {
        "id": "XknFRVIf60Ap",
        "colab_type": "code",
        "colab": {}
      },
      "source": [
        "a.market"
      ],
      "execution_count": 0,
      "outputs": []
    },
    {
      "cell_type": "code",
      "metadata": {
        "id": "ncEdZpcO66xt",
        "colab_type": "code",
        "colab": {}
      },
      "source": [
        "b.market"
      ],
      "execution_count": 0,
      "outputs": []
    },
    {
      "cell_type": "code",
      "metadata": {
        "id": "rsTOmDf5672o",
        "colab_type": "code",
        "colab": {}
      },
      "source": [
        "Stock.market"
      ],
      "execution_count": 0,
      "outputs": []
    },
    {
      "cell_type": "code",
      "metadata": {
        "id": "7ypdW7Z169bH",
        "colab_type": "code",
        "colab": {}
      },
      "source": [
        "a.market = '노하람'\n",
        "a.market"
      ],
      "execution_count": 0,
      "outputs": []
    },
    {
      "cell_type": "code",
      "metadata": {
        "id": "zCXBBu467B2Q",
        "colab_type": "code",
        "colab": {}
      },
      "source": [
        "b.market = '취업성공'\n",
        "b.market"
      ],
      "execution_count": 0,
      "outputs": []
    },
    {
      "cell_type": "code",
      "metadata": {
        "id": "hOlc0eZ87FiI",
        "colab_type": "code",
        "colab": {}
      },
      "source": [
        "Stock.market"
      ],
      "execution_count": 0,
      "outputs": []
    }
  ]
}