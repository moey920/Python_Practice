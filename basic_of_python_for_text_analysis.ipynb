{
  "nbformat": 4,
  "nbformat_minor": 0,
  "metadata": {
    "kernelspec": {
      "display_name": "Python 3",
      "language": "python",
      "name": "python3"
    },
    "language_info": {
      "codemirror_mode": {
        "name": "ipython",
        "version": 3
      },
      "file_extension": ".py",
      "mimetype": "text/x-python",
      "name": "python",
      "nbconvert_exporter": "python",
      "pygments_lexer": "ipython3",
      "version": "3.6.8"
    },
    "colab": {
      "name": "basic of python for text analysis.ipynb",
      "provenance": [],
      "toc_visible": true,
      "include_colab_link": true
    }
  },
  "cells": [
    {
      "cell_type": "markdown",
      "metadata": {
        "id": "view-in-github",
        "colab_type": "text"
      },
      "source": [
        "<a href=\"https://colab.research.google.com/github/moey920/Python_Practice/blob/master/basic_of_python_for_text_analysis.ipynb\" target=\"_parent\"><img src=\"https://colab.research.google.com/assets/colab-badge.svg\" alt=\"Open In Colab\"/></a>"
      ]
    },
    {
      "cell_type": "markdown",
      "metadata": {
        "id": "xsu-fmHNxsuq",
        "colab_type": "text"
      },
      "source": [
        "# 가천대학교 GBridge\n",
        "## 머신러닝과 언어처리\n",
        "\n",
        "2019년 10월 25일 실습\n",
        "\n",
        "참고자료: Automate the boring stuff with python"
      ]
    },
    {
      "cell_type": "markdown",
      "metadata": {
        "id": "1UDkt4grxsus",
        "colab_type": "text"
      },
      "source": [
        "\n",
        "\n",
        "* 문자열 저장 및 출력\n",
        "\n"
      ]
    },
    {
      "cell_type": "code",
      "metadata": {
        "id": "gJq_OsPUyACm",
        "colab_type": "code",
        "colab": {}
      },
      "source": [
        ""
      ],
      "execution_count": null,
      "outputs": []
    },
    {
      "cell_type": "code",
      "metadata": {
        "id": "IXRWBRsuxsut",
        "colab_type": "code",
        "colab": {
          "base_uri": "https://localhost:8080/",
          "height": 35
        },
        "outputId": "bb57891b-ab94-455b-e765-c220c617c8fc"
      },
      "source": [
        "a = '안녕하세요?'\n",
        "print(a)"
      ],
      "execution_count": null,
      "outputs": [
        {
          "output_type": "stream",
          "text": [
            "안녕하세요?\n"
          ],
          "name": "stdout"
        }
      ]
    },
    {
      "cell_type": "code",
      "metadata": {
        "id": "H25KPg_-xsuw",
        "colab_type": "code",
        "colab": {
          "base_uri": "https://localhost:8080/",
          "height": 35
        },
        "outputId": "e90a0336-74bb-4f68-d5d6-a31d526ea756"
      },
      "source": [
        "b = \"반갑습니다.\"\n",
        "print(b)"
      ],
      "execution_count": null,
      "outputs": [
        {
          "output_type": "stream",
          "text": [
            "반갑습니다.\n"
          ],
          "name": "stdout"
        }
      ]
    },
    {
      "cell_type": "code",
      "metadata": {
        "id": "XFUIXhQ1xsuy",
        "colab_type": "code",
        "colab": {
          "base_uri": "https://localhost:8080/",
          "height": 35
        },
        "outputId": "ebd29e86-53b0-4627-ad99-ce65b59cba5f"
      },
      "source": [
        "c = \"That is Alice's cat\"\n",
        "print(c)"
      ],
      "execution_count": null,
      "outputs": [
        {
          "output_type": "stream",
          "text": [
            "That is Alice's cat\n"
          ],
          "name": "stdout"
        }
      ]
    },
    {
      "cell_type": "markdown",
      "metadata": {
        "id": "IaIJmR5Cxsu0",
        "colab_type": "text"
      },
      "source": [
        "\n",
        "\n",
        "* Escape character\n",
        "   - \\\\'\n",
        "   - \\\\\"\n",
        "   - \\\\t\n",
        "   - \\\\n\n",
        "   - \\\\\\"
      ]
    },
    {
      "cell_type": "code",
      "metadata": {
        "scrolled": true,
        "id": "0Wez_Yszxsu1",
        "colab_type": "code",
        "colab": {
          "base_uri": "https://localhost:8080/",
          "height": 35
        },
        "outputId": "2d93541f-48de-4265-c368-f1d71fc87f5a"
      },
      "source": [
        "d = 'That is Alice\\'s cat'\n",
        "print(d)"
      ],
      "execution_count": null,
      "outputs": [
        {
          "output_type": "stream",
          "text": [
            "That is Alice's cat\n"
          ],
          "name": "stdout"
        }
      ]
    },
    {
      "cell_type": "code",
      "metadata": {
        "id": "p0cfi9i6xsu3",
        "colab_type": "code",
        "colab": {}
      },
      "source": [
        "print(\"Hello there!\\nHow are you?\\nI\\'m doing fine.\")"
      ],
      "execution_count": null,
      "outputs": []
    },
    {
      "cell_type": "code",
      "metadata": {
        "id": "1z6cyQjGxsu5",
        "colab_type": "code",
        "colab": {}
      },
      "source": [
        "print(r\"Hello there!\\nHow are you?\\nI\\'m doing fine.\")"
      ],
      "execution_count": null,
      "outputs": []
    },
    {
      "cell_type": "code",
      "metadata": {
        "id": "R9lLOn4cxsu6",
        "colab_type": "code",
        "colab": {}
      },
      "source": [
        "print('''Dear Alice,\n",
        "\n",
        "Eve's cat has been arrested for catnapping, cat burglary, and extortion.\n",
        "\n",
        "Sincerely,\n",
        "Bob''')"
      ],
      "execution_count": null,
      "outputs": []
    },
    {
      "cell_type": "code",
      "metadata": {
        "id": "43wSJLD-xsu8",
        "colab_type": "code",
        "colab": {}
      },
      "source": [
        "print('Dear Alice,\\n\\nEve\\'s cat has been arrested for catnapping, cat burglary, and extortion.\\n\\nSincerely,\\nBob')"
      ],
      "execution_count": null,
      "outputs": []
    },
    {
      "cell_type": "markdown",
      "metadata": {
        "id": "gxxvUtq5xsvA",
        "colab_type": "text"
      },
      "source": [
        "\n",
        "* 문자열의 인덱싱과 슬라이싱\n"
      ]
    },
    {
      "cell_type": "code",
      "metadata": {
        "id": "ERwh_Jt_xsvB",
        "colab_type": "code",
        "colab": {}
      },
      "source": [
        "spam = 'Hello World!'"
      ],
      "execution_count": null,
      "outputs": []
    },
    {
      "cell_type": "code",
      "metadata": {
        "id": "t9zmvvw6xsvD",
        "colab_type": "code",
        "colab": {}
      },
      "source": [
        "spam[0]"
      ],
      "execution_count": null,
      "outputs": []
    },
    {
      "cell_type": "code",
      "metadata": {
        "id": "e7ITcb9qxsvF",
        "colab_type": "code",
        "colab": {}
      },
      "source": [
        "spam[4]"
      ],
      "execution_count": null,
      "outputs": []
    },
    {
      "cell_type": "code",
      "metadata": {
        "id": "n3YPZ9H-xsvH",
        "colab_type": "code",
        "colab": {}
      },
      "source": [
        "spam[-1]"
      ],
      "execution_count": null,
      "outputs": []
    },
    {
      "cell_type": "code",
      "metadata": {
        "id": "2UEfUBPTxsvJ",
        "colab_type": "code",
        "colab": {}
      },
      "source": [
        "spam[0:5]"
      ],
      "execution_count": null,
      "outputs": []
    },
    {
      "cell_type": "code",
      "metadata": {
        "id": "bApfzB4axsvL",
        "colab_type": "code",
        "colab": {}
      },
      "source": [
        "spam[:5]"
      ],
      "execution_count": null,
      "outputs": []
    },
    {
      "cell_type": "code",
      "metadata": {
        "id": "EOxylxIUxsvN",
        "colab_type": "code",
        "colab": {}
      },
      "source": [
        "spam[6:]"
      ],
      "execution_count": null,
      "outputs": []
    },
    {
      "cell_type": "markdown",
      "metadata": {
        "id": "m0-J73jPxsvQ",
        "colab_type": "text"
      },
      "source": [
        "\n",
        "* Concatenate\n"
      ]
    },
    {
      "cell_type": "code",
      "metadata": {
        "id": "h4Bx-3j0xsvS",
        "colab_type": "code",
        "colab": {}
      },
      "source": [
        "'hello' + 'world!'"
      ],
      "execution_count": null,
      "outputs": []
    },
    {
      "cell_type": "markdown",
      "metadata": {
        "id": "iQSCVHCVxsvV",
        "colab_type": "text"
      },
      "source": [
        "\n",
        "* Multiply\n"
      ]
    },
    {
      "cell_type": "code",
      "metadata": {
        "id": "4qG9_hN-xsvW",
        "colab_type": "code",
        "colab": {}
      },
      "source": [
        "'hello' * 5"
      ],
      "execution_count": null,
      "outputs": []
    },
    {
      "cell_type": "markdown",
      "metadata": {
        "id": "wyLE43xsxsvZ",
        "colab_type": "text"
      },
      "source": [
        "\n",
        "* in 연산자"
      ]
    },
    {
      "cell_type": "code",
      "metadata": {
        "id": "Gg-PmZAjxsva",
        "colab_type": "code",
        "colab": {}
      },
      "source": [
        "'Hello' in spam"
      ],
      "execution_count": null,
      "outputs": []
    },
    {
      "cell_type": "code",
      "metadata": {
        "id": "Fdgvvr2dxsvg",
        "colab_type": "code",
        "colab": {}
      },
      "source": [
        "'HELLO' in spam"
      ],
      "execution_count": null,
      "outputs": []
    },
    {
      "cell_type": "code",
      "metadata": {
        "id": "ZWYXbljDxsvj",
        "colab_type": "code",
        "colab": {}
      },
      "source": [
        "'world' not in spam"
      ],
      "execution_count": null,
      "outputs": []
    },
    {
      "cell_type": "markdown",
      "metadata": {
        "id": "1QntO_Dsxsvm",
        "colab_type": "text"
      },
      "source": [
        "\n",
        "* string methods\n"
      ]
    },
    {
      "cell_type": "code",
      "metadata": {
        "id": "9_qlm9zXxsvm",
        "colab_type": "code",
        "colab": {}
      },
      "source": [
        "spam.upper()"
      ],
      "execution_count": null,
      "outputs": []
    },
    {
      "cell_type": "code",
      "metadata": {
        "id": "YgDaSb8hxsvo",
        "colab_type": "code",
        "colab": {}
      },
      "source": [
        "spam.lower()"
      ],
      "execution_count": null,
      "outputs": []
    },
    {
      "cell_type": "code",
      "metadata": {
        "id": "oAV_nURGxsvq",
        "colab_type": "code",
        "colab": {}
      },
      "source": [
        "print('How are you?')\n",
        "feeling = input()\n",
        "if feeling.lower() == 'great':\n",
        "    print('I feel great too.')\n",
        "else:\n",
        "    print('I hope the rest of your day is good.')"
      ],
      "execution_count": null,
      "outputs": []
    },
    {
      "cell_type": "code",
      "metadata": {
        "id": "kzYrJdWSxsvs",
        "colab_type": "code",
        "colab": {}
      },
      "source": [
        "spam.islower()"
      ],
      "execution_count": null,
      "outputs": []
    },
    {
      "cell_type": "code",
      "metadata": {
        "id": "S211yxWYxsvu",
        "colab_type": "code",
        "colab": {}
      },
      "source": [
        "spam.isupper()"
      ],
      "execution_count": null,
      "outputs": []
    },
    {
      "cell_type": "code",
      "metadata": {
        "id": "sYApBll2xsvv",
        "colab_type": "code",
        "colab": {}
      },
      "source": [
        "'HELLO'.isupper()"
      ],
      "execution_count": null,
      "outputs": []
    },
    {
      "cell_type": "code",
      "metadata": {
        "id": "BHbPIo2Oxsvy",
        "colab_type": "code",
        "colab": {}
      },
      "source": [
        "'12345'.islower()"
      ],
      "execution_count": null,
      "outputs": []
    },
    {
      "cell_type": "code",
      "metadata": {
        "id": "A0a3vqy_xsv1",
        "colab_type": "code",
        "colab": {}
      },
      "source": [
        "'12345'.isupper()"
      ],
      "execution_count": null,
      "outputs": []
    },
    {
      "cell_type": "code",
      "metadata": {
        "id": "thIgdDA_xsv3",
        "colab_type": "code",
        "colab": {}
      },
      "source": [
        "'abc12345'.islower()"
      ],
      "execution_count": null,
      "outputs": []
    },
    {
      "cell_type": "markdown",
      "metadata": {
        "id": "2Qa801W7xsv5",
        "colab_type": "text"
      },
      "source": [
        "\n",
        "* isX string methods\n"
      ]
    },
    {
      "cell_type": "code",
      "metadata": {
        "id": "cLNpuby_xsv6",
        "colab_type": "code",
        "colab": {}
      },
      "source": [
        "'hello'.isalpha()"
      ],
      "execution_count": null,
      "outputs": []
    },
    {
      "cell_type": "code",
      "metadata": {
        "id": "LdN36YTFxsv8",
        "colab_type": "code",
        "colab": {}
      },
      "source": [
        "'hello123'.isalpha()"
      ],
      "execution_count": null,
      "outputs": []
    },
    {
      "cell_type": "code",
      "metadata": {
        "id": "ISLdyGQxxsv-",
        "colab_type": "code",
        "colab": {}
      },
      "source": [
        "'hello123'.isalnum()"
      ],
      "execution_count": null,
      "outputs": []
    },
    {
      "cell_type": "code",
      "metadata": {
        "id": "lWAaqEZ2xsv_",
        "colab_type": "code",
        "colab": {}
      },
      "source": [
        "'123'.isdecimal()"
      ],
      "execution_count": null,
      "outputs": []
    },
    {
      "cell_type": "code",
      "metadata": {
        "id": "FpRG1oBuxswG",
        "colab_type": "code",
        "colab": {}
      },
      "source": [
        "'123.456'.isdecimal()"
      ],
      "execution_count": null,
      "outputs": []
    },
    {
      "cell_type": "code",
      "metadata": {
        "id": "-HzW3jwBxswH",
        "colab_type": "code",
        "colab": {}
      },
      "source": [
        "'   '.isspace()"
      ],
      "execution_count": null,
      "outputs": []
    },
    {
      "cell_type": "code",
      "metadata": {
        "id": "F6W1jBCSxswJ",
        "colab_type": "code",
        "colab": {}
      },
      "source": [
        "'This Is Title Case'.istitle()"
      ],
      "execution_count": null,
      "outputs": []
    },
    {
      "cell_type": "code",
      "metadata": {
        "id": "nY_IMj5YxswK",
        "colab_type": "code",
        "colab": {}
      },
      "source": [
        "while True:\n",
        "    print('Enter your age:')\n",
        "    age = input()\n",
        "    if age.isdecimal():\n",
        "        break\n",
        "    print('Please enter a number for your age.')"
      ],
      "execution_count": null,
      "outputs": []
    },
    {
      "cell_type": "code",
      "metadata": {
        "id": "N8i0fci-xswL",
        "colab_type": "code",
        "colab": {}
      },
      "source": [
        "while True:\n",
        "    print('Select a new password (letters and numbers only):')\n",
        "    password = input()\n",
        "    if password.isalnum():\n",
        "        break\n",
        "    print('Passwords can only have letters and numbers.')"
      ],
      "execution_count": null,
      "outputs": []
    },
    {
      "cell_type": "markdown",
      "metadata": {
        "id": "W1jkz2-PxswN",
        "colab_type": "text"
      },
      "source": [
        "\n",
        "* startswith() and endswith()\n"
      ]
    },
    {
      "cell_type": "code",
      "metadata": {
        "id": "90u2QYfmxswN",
        "colab_type": "code",
        "colab": {}
      },
      "source": [
        "'Hello world!'.startswith('H')"
      ],
      "execution_count": null,
      "outputs": []
    },
    {
      "cell_type": "code",
      "metadata": {
        "id": "hHLCEmRexswO",
        "colab_type": "code",
        "colab": {}
      },
      "source": [
        "'Hello world!'.endswith('world!')"
      ],
      "execution_count": null,
      "outputs": []
    },
    {
      "cell_type": "markdown",
      "metadata": {
        "id": "Ir7n1MMexswR",
        "colab_type": "text"
      },
      "source": [
        "\n",
        "* join() and split()\n"
      ]
    },
    {
      "cell_type": "code",
      "metadata": {
        "id": "CoYSvSYXxswR",
        "colab_type": "code",
        "colab": {}
      },
      "source": [
        "', '.join(['cats', 'rats', 'bats'])"
      ],
      "execution_count": null,
      "outputs": []
    },
    {
      "cell_type": "code",
      "metadata": {
        "id": "mtPd1TfyxswU",
        "colab_type": "code",
        "colab": {}
      },
      "source": [
        "' '.join(['My', 'name', 'is', 'Simon'])"
      ],
      "execution_count": null,
      "outputs": []
    },
    {
      "cell_type": "code",
      "metadata": {
        "id": "INW6PgwExswX",
        "colab_type": "code",
        "colab": {}
      },
      "source": [
        "'ABC'.join(['My', 'name', 'is', 'Simon'])"
      ],
      "execution_count": null,
      "outputs": []
    },
    {
      "cell_type": "code",
      "metadata": {
        "id": "ZXFpfAiexswZ",
        "colab_type": "code",
        "colab": {}
      },
      "source": [
        "'My name is Simon'.split()"
      ],
      "execution_count": null,
      "outputs": []
    },
    {
      "cell_type": "code",
      "metadata": {
        "id": "XWxPzmOQxswb",
        "colab_type": "code",
        "colab": {}
      },
      "source": [
        "'MyABCnameABCisABCSimon'.split('ABC')"
      ],
      "execution_count": null,
      "outputs": []
    },
    {
      "cell_type": "code",
      "metadata": {
        "id": "f89o1B9Jxswf",
        "colab_type": "code",
        "colab": {}
      },
      "source": [
        "'My name is Simon'.split('m')"
      ],
      "execution_count": null,
      "outputs": []
    },
    {
      "cell_type": "code",
      "metadata": {
        "id": "zz-E4nkKxswi",
        "colab_type": "code",
        "colab": {}
      },
      "source": [
        "spam = '''Dear Alice,\n",
        "How have you been? I am fine.\n",
        "There is a container in the fridge\n",
        "that is labeled \"Milk Experiment\".\n",
        "\n",
        "Please do not drink it.\n",
        "Sincerely,\n",
        "Bob'''\n",
        "\n",
        "spam.split('\\n')"
      ],
      "execution_count": null,
      "outputs": []
    },
    {
      "cell_type": "markdown",
      "metadata": {
        "id": "-LAxW6ovxswj",
        "colab_type": "text"
      },
      "source": [
        "\n",
        "* rjust(), ljust() and center()\n"
      ]
    },
    {
      "cell_type": "code",
      "metadata": {
        "id": "XL-ZJLccxswk",
        "colab_type": "code",
        "colab": {
          "base_uri": "https://localhost:8080/",
          "height": 35
        },
        "outputId": "3cd6316d-083f-47e9-d577-6ebfb91c8f20"
      },
      "source": [
        "'Hello'.rjust(10)"
      ],
      "execution_count": null,
      "outputs": [
        {
          "output_type": "execute_result",
          "data": {
            "text/plain": [
              "'     Hello'"
            ]
          },
          "metadata": {
            "tags": []
          },
          "execution_count": 5
        }
      ]
    },
    {
      "cell_type": "code",
      "metadata": {
        "id": "uTieiOQLxswl",
        "colab_type": "code",
        "colab": {}
      },
      "source": [
        "'Hello'.rjust(20)"
      ],
      "execution_count": null,
      "outputs": []
    },
    {
      "cell_type": "code",
      "metadata": {
        "id": "OQ3W5yETxswm",
        "colab_type": "code",
        "colab": {}
      },
      "source": [
        "'Hello World'.rjust(20)"
      ],
      "execution_count": null,
      "outputs": []
    },
    {
      "cell_type": "code",
      "metadata": {
        "id": "GaBvWzEAxswo",
        "colab_type": "code",
        "colab": {}
      },
      "source": [
        " 'Hello'.ljust(10)"
      ],
      "execution_count": null,
      "outputs": []
    },
    {
      "cell_type": "code",
      "metadata": {
        "id": "1IJCNdSqxswp",
        "colab_type": "code",
        "colab": {}
      },
      "source": [
        " 'Hello'.rjust(20, '*')"
      ],
      "execution_count": null,
      "outputs": []
    },
    {
      "cell_type": "code",
      "metadata": {
        "id": "ZCO0Dltwxswr",
        "colab_type": "code",
        "colab": {}
      },
      "source": [
        "def printPicnic(itemsDict, leftWidth, rightWidth):\n",
        "    print('PICNIC ITEMS'.center(leftWidth + rightWidth, '-'))\n",
        "    for k, v in itemsDict.items():\n",
        "        print(k.ljust(leftWidth, '.') + str(v).rjust(rightWidth))\n",
        "picnicItems = {'sandwiches': 4, 'apples': 12, 'cups': 4, 'cookies': 8000}"
      ],
      "execution_count": null,
      "outputs": []
    },
    {
      "cell_type": "code",
      "metadata": {
        "id": "hDzunt7uxsws",
        "colab_type": "code",
        "colab": {}
      },
      "source": [
        "printPicnic(picnicItems, 12, 5)"
      ],
      "execution_count": null,
      "outputs": []
    },
    {
      "cell_type": "code",
      "metadata": {
        "id": "C3ZN6PH0xswt",
        "colab_type": "code",
        "colab": {}
      },
      "source": [
        "printPicnic(picnicItems, 20, 6)"
      ],
      "execution_count": null,
      "outputs": []
    },
    {
      "cell_type": "markdown",
      "metadata": {
        "id": "-94tEomBxswv",
        "colab_type": "text"
      },
      "source": [
        "\n",
        "* removing whitespace\n",
        "* strip()\n"
      ]
    },
    {
      "cell_type": "code",
      "metadata": {
        "id": "-AA7Hmm8xswv",
        "colab_type": "code",
        "colab": {
          "base_uri": "https://localhost:8080/",
          "height": 35
        },
        "outputId": "5b743f13-81ba-463d-f664-1915da5fca02"
      },
      "source": [
        "spam = '    Hello World     '\n",
        "spam.strip()"
      ],
      "execution_count": null,
      "outputs": [
        {
          "output_type": "execute_result",
          "data": {
            "text/plain": [
              "'Hello World'"
            ]
          },
          "metadata": {
            "tags": []
          },
          "execution_count": 6
        }
      ]
    },
    {
      "cell_type": "code",
      "metadata": {
        "id": "nJfGl0FVxsww",
        "colab_type": "code",
        "colab": {}
      },
      "source": [
        "spam.lstrip()"
      ],
      "execution_count": null,
      "outputs": []
    },
    {
      "cell_type": "code",
      "metadata": {
        "id": "nChD39AYxsw0",
        "colab_type": "code",
        "colab": {}
      },
      "source": [
        "spam.rstrip()"
      ],
      "execution_count": null,
      "outputs": []
    },
    {
      "cell_type": "code",
      "metadata": {
        "id": "m0-oq4dNxsw2",
        "colab_type": "code",
        "colab": {}
      },
      "source": [
        "spam = 'SpamSpamBaconSpamEggsSpamSpam'\n",
        "spam.strip('ampS')"
      ],
      "execution_count": null,
      "outputs": []
    },
    {
      "cell_type": "markdown",
      "metadata": {
        "id": "7TTo5W2lxsw3",
        "colab_type": "text"
      },
      "source": [
        "\n",
        "* find() and replace()\n"
      ]
    },
    {
      "cell_type": "code",
      "metadata": {
        "id": "77dr39bKxsw4",
        "colab_type": "code",
        "colab": {}
      },
      "source": [
        "spam.find('Egg')"
      ],
      "execution_count": null,
      "outputs": []
    },
    {
      "cell_type": "code",
      "metadata": {
        "id": "x-t41UtQxsw5",
        "colab_type": "code",
        "colab": {}
      },
      "source": [
        "spam.replace('Spam','Bacon')"
      ],
      "execution_count": null,
      "outputs": []
    },
    {
      "cell_type": "markdown",
      "metadata": {
        "id": "Xeo_KfOWxsw7",
        "colab_type": "text"
      },
      "source": [
        "\n",
        "* len()\n"
      ]
    },
    {
      "cell_type": "code",
      "metadata": {
        "id": "OwxZz2znxsw8",
        "colab_type": "code",
        "colab": {}
      },
      "source": [
        "len(spam)"
      ],
      "execution_count": null,
      "outputs": []
    }
  ]
}