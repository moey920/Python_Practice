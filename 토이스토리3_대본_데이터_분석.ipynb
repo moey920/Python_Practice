{
  "nbformat": 4,
  "nbformat_minor": 0,
  "metadata": {
    "colab": {
      "name": "토이스토리3 대본 데이터 분석.ipynb",
      "provenance": [],
      "collapsed_sections": [],
      "mount_file_id": "1xIXQ38WXKMhxZcdOy1-ttAE0GhQIRvrA",
      "authorship_tag": "ABX9TyMJF4SiBTlqKL4YjVrOeens",
      "include_colab_link": true
    },
    "kernelspec": {
      "name": "python3",
      "display_name": "Python 3"
    },
    "language_info": {
      "name": "python"
    }
  },
  "cells": [
    {
      "cell_type": "markdown",
      "metadata": {
        "id": "view-in-github",
        "colab_type": "text"
      },
      "source": [
        "<a href=\"https://colab.research.google.com/github/moey920/Python_Practice/blob/master/%ED%86%A0%EC%9D%B4%EC%8A%A4%ED%86%A0%EB%A6%AC3_%EB%8C%80%EB%B3%B8_%EB%8D%B0%EC%9D%B4%ED%84%B0_%EB%B6%84%EC%84%9D.ipynb\" target=\"_parent\"><img src=\"https://colab.research.google.com/assets/colab-badge.svg\" alt=\"Open In Colab\"/></a>"
      ]
    },
    {
      "cell_type": "markdown",
      "metadata": {
        "id": "Sr5woycU0IFf"
      },
      "source": [
        "# 토이스토리 3 대본 데이터 분석"
      ]
    },
    {
      "cell_type": "markdown",
      "metadata": {
        "id": "aTTC7cIo0LRH"
      },
      "source": [
        "## PDF 파일(대본) 읽어 전처리하기"
      ]
    },
    {
      "cell_type": "code",
      "metadata": {
        "colab": {
          "base_uri": "https://localhost:8080/"
        },
        "id": "-D-O06sC0Gl_",
        "outputId": "6876b266-3e12-47c6-aea4-e744d3d71042"
      },
      "source": [
        "!pip install pdfminer"
      ],
      "execution_count": 3,
      "outputs": [
        {
          "output_type": "stream",
          "text": [
            "Collecting pdfminer\n",
            "\u001b[?25l  Downloading https://files.pythonhosted.org/packages/71/a3/155c5cde5f9c0b1069043b2946a93f54a41fd72cc19c6c100f6f2f5bdc15/pdfminer-20191125.tar.gz (4.2MB)\n",
            "\u001b[K     |████████████████████████████████| 4.2MB 6.4MB/s \n",
            "\u001b[?25hCollecting pycryptodome\n",
            "\u001b[?25l  Downloading https://files.pythonhosted.org/packages/ad/16/9627ab0493894a11c68e46000dbcc82f578c8ff06bc2980dcd016aea9bd3/pycryptodome-3.10.1-cp35-abi3-manylinux2010_x86_64.whl (1.9MB)\n",
            "\u001b[K     |████████████████████████████████| 1.9MB 34.0MB/s \n",
            "\u001b[?25hBuilding wheels for collected packages: pdfminer\n",
            "  Building wheel for pdfminer (setup.py) ... \u001b[?25l\u001b[?25hdone\n",
            "  Created wheel for pdfminer: filename=pdfminer-20191125-cp37-none-any.whl size=6140062 sha256=c3ac8b3d2ade5f34fb3a61496ced795f3f41ea5c47212f9f1fa96fec2167858f\n",
            "  Stored in directory: /root/.cache/pip/wheels/e1/00/af/720a55d74ba3615bb4709a3ded6dd71dc5370a586a0ff6f326\n",
            "Successfully built pdfminer\n",
            "Installing collected packages: pycryptodome, pdfminer\n",
            "Successfully installed pdfminer-20191125 pycryptodome-3.10.1\n"
          ],
          "name": "stdout"
        }
      ]
    },
    {
      "cell_type": "markdown",
      "metadata": {
        "id": "fOE2aybM3xWF"
      },
      "source": [
        "### 일반 텍스트 추출기 코드\n",
        "\n",
        "local에서 해당 코드를 개발할 때는 pdfminer와 관련된 모든 코드를 data_func.py로 저장하고 PyPDF2를 사용할 때 import해주세요."
      ]
    },
    {
      "cell_type": "code",
      "metadata": {
        "id": "KwdErbdQygaJ"
      },
      "source": [
        "from io import StringIO\n",
        "from pdfminer.converter import TextConverter\n",
        "from pdfminer.layout import LAParams\n",
        "from pdfminer.pdfdocument import PDFDocument\n",
        "from pdfminer.pdfinterp import PDFResourceManager, PDFPageInterpreter\n",
        "from pdfminer.pdfpage import PDFPage\n",
        "from pdfminer.pdfparser import PDFParser\n",
        "\n",
        "def convert_pdf_to_string(pdf_file_path):\n",
        "    \"\"\"\n",
        "    pdf_file_path: 'dir/aaa.pdf'로 구성된 path로부터 \n",
        "    내부의 text 파일을 모두 읽어서 스트링을 리턴함.\n",
        "    https://pdfminersix.readthedocs.io/en/latest/tutorials/composable.html\n",
        "    \"\"\"\n",
        "    output_string = StringIO()\n",
        "    with open(pdf_file_path, 'rb') as f:\n",
        "        parser = PDFParser(f)\n",
        "        doc = PDFDocument(parser)\n",
        "        rsrcmgr = PDFResourceManager()\n",
        "        device = TextConverter(rsrcmgr, output_string, laparams=LAParams())\n",
        "        interpreter = PDFPageInterpreter(rsrcmgr, device)\n",
        "        for page in PDFPage.create_pages(doc):\n",
        "            interpreter.process_page(page)\n",
        "    return output_string.getvalue()\n",
        "\n",
        "\n",
        "toy_txt = convert_pdf_to_string(\"/content/drive/MyDrive/script-toystory3.pdf\")\n",
        "# print(toy_txt)\n",
        "# print(type(convert_pdf_to_string(\"script-toystory3.pdf\")))"
      ],
      "execution_count": null,
      "outputs": []
    },
    {
      "cell_type": "code",
      "metadata": {
        "colab": {
          "base_uri": "https://localhost:8080/"
        },
        "id": "LjcASr4-0qQr",
        "outputId": "b8529177-2fe2-4865-b24d-cffb162d3796"
      },
      "source": [
        "print(type(toy_txt))"
      ],
      "execution_count": 11,
      "outputs": [
        {
          "output_type": "stream",
          "text": [
            "<class 'str'>\n"
          ],
          "name": "stdout"
        }
      ]
    },
    {
      "cell_type": "markdown",
      "metadata": {
        "id": "-5JFVF3W4BBa"
      },
      "source": [
        "#### 차후 다른 movie scripts에서도 잘 작동하도록 할 때 필요한 함수(아직 미사용)"
      ]
    },
    {
      "cell_type": "markdown",
      "metadata": {
        "id": "gwedWvN439eW"
      },
      "source": [
        "convert_title_to_filename: 목차에 나타나는 제목을 가져 와서 파일 이름으로 변환하는 함수-작업을 시작했을 때 더 많은 조정이 필요하다고 생각했습니다.   \n",
        "\n",
        "split_to_title_and_pagenum:이 함수의 목적은 나중에 더 명확해질 것입니다. 기본적으로 목차의 행이 실제로 제목 (페이지 번호 쌍)인지 확인하는 데 사용되며, 그렇다면 튜플에서 반환합니다."
      ]
    },
    {
      "cell_type": "code",
      "metadata": {
        "id": "cgmrwaZY0sZ4"
      },
      "source": [
        "def convert_title_to_filename(title):\n",
        "    filename = title.lower()\n",
        "    filename = filename.replace(' ', '_')\n",
        "    return filename\n",
        "\n",
        "\n",
        "def split_to_title_and_pagenum(table_of_contents_entry):\n",
        "    title_and_pagenum = table_of_contents_entry.strip()\n",
        "    \n",
        "    title = None\n",
        "    pagenum = None\n",
        "    \n",
        "    if len(title_and_pagenum) > 0:\n",
        "        if title_and_pagenum[-1].isdigit():\n",
        "            i = -2\n",
        "            while title_and_pagenum[i].isdigit():\n",
        "                i -= 1\n",
        "\n",
        "            title = title_and_pagenum[:i].strip()\n",
        "            pagenum = int(title_and_pagenum[i:].strip())\n",
        "        \n",
        "    return title, pagenum"
      ],
      "execution_count": 12,
      "outputs": []
    },
    {
      "cell_type": "markdown",
      "metadata": {
        "id": "Pb1ljbSe4ZTb"
      },
      "source": [
        "The next step is about setting up the environment, we import the libraries (including the functions from the block above), check some properties of the document. And most importantly, we set up the PyPDF2 PdfFileReader object we are going to use throughout the project: reader."
      ]
    },
    {
      "cell_type": "code",
      "metadata": {
        "colab": {
          "base_uri": "https://localhost:8080/"
        },
        "id": "rXFv4kLs4ePE",
        "outputId": "a28c875e-f81c-4be1-a530-0d93b9715fe4"
      },
      "source": [
        "!pip install PyPDF2\n",
        "!pip install PyML"
      ],
      "execution_count": 18,
      "outputs": [
        {
          "output_type": "stream",
          "text": [
            "Requirement already satisfied: PyPDF2 in /usr/local/lib/python3.7/dist-packages (1.26.0)\n",
            "\u001b[31mERROR: Could not find a version that satisfies the requirement PyML (from versions: none)\u001b[0m\n",
            "\u001b[31mERROR: No matching distribution found for PyML\u001b[0m\n"
          ],
          "name": "stdout"
        }
      ]
    },
    {
      "cell_type": "code",
      "metadata": {
        "colab": {
          "base_uri": "https://localhost:8080/"
        },
        "id": "VEBR7aTL4UaR",
        "outputId": "5e9e8afb-5d53-483c-a50b-69345270c9c4"
      },
      "source": [
        "import PyPDF2\n",
        "import csv\n",
        "\n",
        "reader = PyPDF2.PdfFileReader(\n",
        "    '/content/drive/MyDrive/script-toystory3.pdf')\n",
        "\n",
        "print(reader.documentInfo)\n",
        "\n",
        "num_of_pages = reader.numPages\n",
        "print('Number of pages: ' + str(num_of_pages))"
      ],
      "execution_count": 19,
      "outputs": [
        {
          "output_type": "stream",
          "text": [
            "{'/Title': 'TS3 - Final, 11-1-10.fdx', '/Author': 'Michael Arndt', '/Creator': 'Final Draft', '/Producer': 'Mac OS X 10.5.8 Quartz PDFContext', '/CreationDate': \"D:20101102003511Z00'00'\", '/ModDate': \"D:20101102003511Z00'00'\"}\n",
            "Number of pages: 131\n"
          ],
          "name": "stdout"
        }
      ]
    },
    {
      "cell_type": "markdown",
      "metadata": {
        "id": "-OnRJ2Xg5bla"
      },
      "source": [
        "Now we can start working with the file. Having a look at the pdf, it seems like the best course of action is to somehow extract the page numbers from the table of contents, and then use them to split the file. The table of contents is on page 3 and 4 in the pdf, which means 2 and 3 in the PdfFileReader list of PageObjects. Once we have the pdf in a separate file, we can use the pdfminer.six code to extract the text information. (Note: we could also just adjust the relevant pages directly without splitting the file, but I wanted to also create the individual pdf files, and it made sense to have a separate table of contents file too.)\n",
        "\n",
        "이제 파일 작업을 시작할 수 있습니다. pdf를 보면 가장 좋은 방법은 목차에서 페이지 번호를 추출한 다음이를 사용하여 파일을 분할하는 것입니다. 목차는 pdf의 3 페이지와 4 페이지에 있으며 이는 PageObjects의 PdfFileReader 목록에서 2와 3을 의미합니다. 별도의 파일에 pdf가 있으면 pdfminer.six 코드를 사용하여 텍스트 정보를 추출 할 수 있습니다. (참고 : 파일을 분할하지 않고 관련 페이지를 직접 조정할 수도 있지만 개별 pdf 파일도 만들고 싶었고 별도의 목차 파일도있는 것이 합리적이었습니다.)"
      ]
    },
    {
      "cell_type": "code",
      "metadata": {
        "id": "dhRFzc-_4dFO"
      },
      "source": [
        "writer = PyPDF2.PdfFileWriter()\n",
        "\n",
        "for page in range(2,4):\n",
        "\n",
        "    writer.addPage(reader.getPage(page))\n",
        "    \n",
        "output_filename = '/content/drive/MyDrive/table_of_contents.pdf'\n",
        "\n",
        "with open(output_filename, 'wb') as output:\n",
        "    writer.write(output)\n",
        "\n",
        "# 로컬에서 개발할 경우 import한 data_func.convert_pdf_to_string로 쓰면 됩니다.\n",
        "text = convert_pdf_to_string(\n",
        "    '/content/drive/MyDrive/table_of_contents.pdf')"
      ],
      "execution_count": 28,
      "outputs": []
    },
    {
      "cell_type": "code",
      "metadata": {
        "colab": {
          "base_uri": "https://localhost:8080/"
        },
        "id": "71dL9bmM6Ge5",
        "outputId": "97ff6a8d-b2e8-42dd-efe4-b6b5917d9f22"
      },
      "source": [
        "print(text[:200])"
      ],
      "execution_count": 37,
      "outputs": [
        {
          "output_type": "stream",
          "text": [
            "GALLOPING HOOVES\n",
            "TILT UP to find Woody, riding BULLSEYE, JESSIE at the reins.\n",
            "\n",
            "              2\n",
            "\n",
            "JESSIE\n",
            "\n",
            "I believe you dropped something, \n",
            "Mister!\n",
            "\n",
            "Jessie?!\n",
            "\n",
            "ONE-EYED BART \n",
            "\n",
            "WOODY\n",
            "\n",
            "You’ve reached the e\n"
          ],
          "name": "stdout"
        }
      ]
    },
    {
      "cell_type": "code",
      "metadata": {
        "id": "Py5tH6Qh6HkA"
      },
      "source": [
        "text = text.replace('.','')\n",
        "text = text.replace('\\x0c','')\n",
        "table_of_contents_raw = text.split('\\n')"
      ],
      "execution_count": 38,
      "outputs": []
    },
    {
      "cell_type": "markdown",
      "metadata": {
        "id": "koLJcQOE6-mZ"
      },
      "source": [
        "We would like to collect the titles and page numbers into lists. This is done by stripping away the space characters, and then checking if the line ends with numbers. We need to be careful because we do want to keep the spaces within the titles.\n",
        "\n",
        "\n",
        "제목과 페이지 번호를 목록으로 모으고 싶습니다. 이것은 공백 문자를 제거한 다음 행이 숫자로 끝나는 지 확인하여 수행됩니다. 제목 내에 공백을 유지하고 싶기 때문에주의해야합니다."
      ]
    },
    {
      "cell_type": "code",
      "metadata": {
        "colab": {
          "base_uri": "https://localhost:8080/",
          "height": 362
        },
        "id": "8DvGHpcX6VLA",
        "outputId": "7b740cc3-560d-4b0a-f8e8-109166427fe9"
      },
      "source": [
        "title_list = []\n",
        "pagenum_list = []\n",
        "title_formatted_list = []\n",
        "for item in table_of_contents_raw:\n",
        "        title, pagenum = \\\n",
        "            split_to_title_and_pagenum(item) # data_func.split_to_title_and_pagenum(item)\n",
        "        if title != None:\n",
        "            title_list.append(title)\n",
        "            pagenum_list.append(pagenum)\n",
        "            title_formatted_list.append(\n",
        "                convert_title_to_filename(title)) # data_func.convert_title_to_filename(title))\n",
        "            \n",
        "# for page_list, we need to add the last page as well\n",
        "pagenum_list.append(num_of_pages + 1)"
      ],
      "execution_count": 40,
      "outputs": [
        {
          "output_type": "error",
          "ename": "IndexError",
          "evalue": "ignored",
          "traceback": [
            "\u001b[0;31m---------------------------------------------------------------------------\u001b[0m",
            "\u001b[0;31mIndexError\u001b[0m                                Traceback (most recent call last)",
            "\u001b[0;32m<ipython-input-40-4ee75f766bb9>\u001b[0m in \u001b[0;36m<module>\u001b[0;34m()\u001b[0m\n\u001b[1;32m      3\u001b[0m \u001b[0mtitle_formatted_list\u001b[0m \u001b[0;34m=\u001b[0m \u001b[0;34m[\u001b[0m\u001b[0;34m]\u001b[0m\u001b[0;34m\u001b[0m\u001b[0;34m\u001b[0m\u001b[0m\n\u001b[1;32m      4\u001b[0m \u001b[0;32mfor\u001b[0m \u001b[0mitem\u001b[0m \u001b[0;32min\u001b[0m \u001b[0mtable_of_contents_raw\u001b[0m\u001b[0;34m:\u001b[0m\u001b[0;34m\u001b[0m\u001b[0;34m\u001b[0m\u001b[0m\n\u001b[0;32m----> 5\u001b[0;31m         \u001b[0mtitle\u001b[0m\u001b[0;34m,\u001b[0m \u001b[0mpagenum\u001b[0m \u001b[0;34m=\u001b[0m             \u001b[0msplit_to_title_and_pagenum\u001b[0m\u001b[0;34m(\u001b[0m\u001b[0mitem\u001b[0m\u001b[0;34m)\u001b[0m \u001b[0;31m# data_func.split_to_title_and_pagenum(item)\u001b[0m\u001b[0;34m\u001b[0m\u001b[0;34m\u001b[0m\u001b[0m\n\u001b[0m\u001b[1;32m      6\u001b[0m         \u001b[0;32mif\u001b[0m \u001b[0mtitle\u001b[0m \u001b[0;34m!=\u001b[0m \u001b[0;32mNone\u001b[0m\u001b[0;34m:\u001b[0m\u001b[0;34m\u001b[0m\u001b[0;34m\u001b[0m\u001b[0m\n\u001b[1;32m      7\u001b[0m             \u001b[0mtitle_list\u001b[0m\u001b[0;34m.\u001b[0m\u001b[0mappend\u001b[0m\u001b[0;34m(\u001b[0m\u001b[0mtitle\u001b[0m\u001b[0;34m)\u001b[0m\u001b[0;34m\u001b[0m\u001b[0;34m\u001b[0m\u001b[0m\n",
            "\u001b[0;32m<ipython-input-12-7ed0eb540d2a>\u001b[0m in \u001b[0;36msplit_to_title_and_pagenum\u001b[0;34m(table_of_contents_entry)\u001b[0m\n\u001b[1;32m     14\u001b[0m         \u001b[0;32mif\u001b[0m \u001b[0mtitle_and_pagenum\u001b[0m\u001b[0;34m[\u001b[0m\u001b[0;34m-\u001b[0m\u001b[0;36m1\u001b[0m\u001b[0;34m]\u001b[0m\u001b[0;34m.\u001b[0m\u001b[0misdigit\u001b[0m\u001b[0;34m(\u001b[0m\u001b[0;34m)\u001b[0m\u001b[0;34m:\u001b[0m\u001b[0;34m\u001b[0m\u001b[0;34m\u001b[0m\u001b[0m\n\u001b[1;32m     15\u001b[0m             \u001b[0mi\u001b[0m \u001b[0;34m=\u001b[0m \u001b[0;34m-\u001b[0m\u001b[0;36m2\u001b[0m\u001b[0;34m\u001b[0m\u001b[0;34m\u001b[0m\u001b[0m\n\u001b[0;32m---> 16\u001b[0;31m             \u001b[0;32mwhile\u001b[0m \u001b[0mtitle_and_pagenum\u001b[0m\u001b[0;34m[\u001b[0m\u001b[0mi\u001b[0m\u001b[0;34m]\u001b[0m\u001b[0;34m.\u001b[0m\u001b[0misdigit\u001b[0m\u001b[0;34m(\u001b[0m\u001b[0;34m)\u001b[0m\u001b[0;34m:\u001b[0m\u001b[0;34m\u001b[0m\u001b[0;34m\u001b[0m\u001b[0m\n\u001b[0m\u001b[1;32m     17\u001b[0m                 \u001b[0mi\u001b[0m \u001b[0;34m-=\u001b[0m \u001b[0;36m1\u001b[0m\u001b[0;34m\u001b[0m\u001b[0;34m\u001b[0m\u001b[0m\n\u001b[1;32m     18\u001b[0m \u001b[0;34m\u001b[0m\u001b[0m\n",
            "\u001b[0;31mIndexError\u001b[0m: string index out of range"
          ]
        }
      ]
    }
  ]
}